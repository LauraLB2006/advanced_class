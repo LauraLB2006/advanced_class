{
 "cells": [
  {
   "cell_type": "code",
   "execution_count": 1,
   "metadata": {},
   "outputs": [],
   "source": [
    "import arcgis\n",
    "from arcgis.gis import GIS\n",
    "# Create a GIS object, as an anonymous user for this example\n",
    "gis = GIS()"
   ]
  },
  {
   "cell_type": "code",
   "execution_count": 2,
   "metadata": {},
   "outputs": [],
   "source": [
    "from arcgis.geocoding import geocode"
   ]
  },
  {
   "cell_type": "code",
   "execution_count": 3,
   "metadata": {},
   "outputs": [],
   "source": [
    "single_line_address = \"8025 Goshen Road, Edwardsville, IL 62025\""
   ]
  },
  {
   "cell_type": "code",
   "execution_count": 4,
   "metadata": {},
   "outputs": [
    {
     "data": {
      "application/vnd.jupyter.widget-view+json": {
       "model_id": "28a2cd99d50b43c88d25cc25c4b2e0ae",
       "version_major": 2,
       "version_minor": 0
      },
      "text/plain": [
       "MapView(basemaps=['dark-gray', 'dark-gray-vector', 'gray', 'gray-vector', 'hybrid', 'national-geographic', 'oc…"
      ]
     },
     "metadata": {},
     "output_type": "display_data"
    }
   ],
   "source": [
    "map = gis.map(\"Edwardsville, IL\")\n",
    "map"
   ]
  },
  {
   "cell_type": "code",
   "execution_count": 5,
   "metadata": {},
   "outputs": [],
   "source": [
    "# geocode the single line address and plot the location of the first geocode result on the map\n",
    "\n",
    "lwc = geocode(single_line_address)[0]\n",
    "popup = { \n",
    "    \"title\" : \"Liberty Worship Center\", \n",
    "    \"content\" : lwc['address']\n",
    "    }\n",
    "map.draw(lwc['location'], popup)"
   ]
  },
  {
   "cell_type": "code",
   "execution_count": 6,
   "metadata": {},
   "outputs": [],
   "source": [
    "multi_field_address = { \n",
    "    \"Address\" : \"8025 Goshen Road\",\n",
    "    \"City\" : \"Edwardsville\",\n",
    "    \"Region\" : \"IL\",\n",
    "    \"Postal\" : 62025\n",
    "    }"
   ]
  },
  {
   "cell_type": "code",
   "execution_count": 7,
   "metadata": {},
   "outputs": [
    {
     "data": {
      "application/vnd.jupyter.widget-view+json": {
       "model_id": "dbaeb62635534fce88573426ae2311cd",
       "version_major": 2,
       "version_minor": 0
      },
      "text/plain": [
       "MapView(basemaps=['dark-gray', 'dark-gray-vector', 'gray', 'gray-vector', 'hybrid', 'national-geographic', 'oc…"
      ]
     },
     "metadata": {},
     "output_type": "display_data"
    }
   ],
   "source": [
    "map = gis.map(\"Edwardsville, IL\")\n",
    "map"
   ]
  },
  {
   "cell_type": "code",
   "execution_count": 8,
   "metadata": {},
   "outputs": [],
   "source": [
    "#geocode the multiple field address and plot the location of the first geocode result on the map\n",
    "\n",
    "lwc = geocode(multi_field_address)[0]\n",
    "popup = { \n",
    "    \"title\" : \"Liberty Worship Center\", \n",
    "    \"content\" : lwc['address']\n",
    "    }\n",
    "map.draw(lwc['location'], popup)"
   ]
  },
  {
   "cell_type": "code",
   "execution_count": 9,
   "metadata": {},
   "outputs": [],
   "source": [
    "intersection = \"goshen road and staunton road 62025\""
   ]
  },
  {
   "cell_type": "code",
   "execution_count": 10,
   "metadata": {},
   "outputs": [],
   "source": [
    "multi_field_intersection = { \n",
    "    \"Address\" : \"goshen road & staunton road 62025\",\n",
    "    \"City\" : \"Edwardsville\",\n",
    "    \"Region\" : \"IL\"\n",
    "    }"
   ]
  },
  {
   "cell_type": "code",
   "execution_count": 11,
   "metadata": {},
   "outputs": [
    {
     "data": {
      "application/vnd.jupyter.widget-view+json": {
       "model_id": "33af0ae1c0cf40dd86f8bea94019539d",
       "version_major": 2,
       "version_minor": 0
      },
      "text/plain": [
       "MapView(basemaps=['dark-gray', 'dark-gray-vector', 'gray', 'gray-vector', 'hybrid', 'national-geographic', 'oc…"
      ]
     },
     "metadata": {},
     "output_type": "display_data"
    }
   ],
   "source": [
    "map = gis.map(\"Liberty Worship Center, Edwardsville, IL\", 15)\n",
    "map"
   ]
  },
  {
   "cell_type": "code",
   "execution_count": 12,
   "metadata": {},
   "outputs": [],
   "source": [
    "# geocode the intersection address and plot the location of the first geocode result on the map\n",
    "# either of the two intersection address formats can be used, they give itentical results:\n",
    "\n",
    "# intersection_result = geocode(intersection)[0]\n",
    "intersection_result = geocode(multi_field_intersection)[0]\n",
    "\n",
    "popup = { \n",
    "    \"title\" : \"goshen road & staunton road 62025\", \n",
    "    \"content\" : intersection_result['address']\n",
    "        }\n",
    "map.draw(intersection_result['location'], popup)"
   ]
  },
  {
   "cell_type": "code",
   "execution_count": 13,
   "metadata": {},
   "outputs": [],
   "source": [
    "mcd = \"mcdonalds st louis, mo\""
   ]
  },
  {
   "cell_type": "code",
   "execution_count": 14,
   "metadata": {},
   "outputs": [],
   "source": [
    "mcd_stl = {\n",
    "    \"Address\": \"mcdonalds\",\n",
    "    \"City\": \"st louis\",\n",
    "    \"Region\": \"MO\"\n",
    "    }"
   ]
  },
  {
   "cell_type": "code",
   "execution_count": 15,
   "metadata": {},
   "outputs": [
    {
     "data": {
      "application/vnd.jupyter.widget-view+json": {
       "model_id": "326968cc5fce48468f254250796bfda3",
       "version_major": 2,
       "version_minor": 0
      },
      "text/plain": [
       "MapView(basemaps=['dark-gray', 'dark-gray-vector', 'gray', 'gray-vector', 'hybrid', 'national-geographic', 'oc…"
      ]
     },
     "metadata": {},
     "output_type": "display_data"
    }
   ],
   "source": [
    "map = gis.map(\"St. Louis, MO\", 14)\n",
    "map"
   ]
  },
  {
   "cell_type": "code",
   "execution_count": 19,
   "metadata": {},
   "outputs": [],
   "source": [
    "mcd = geocode(mcd_stl)\n",
    "for mc in mcd:\n",
    "    map.draw(mc['location'])"
   ]
  },
  {
   "cell_type": "code",
   "execution_count": null,
   "metadata": {},
   "outputs": [],
   "source": []
  }
 ],
 "metadata": {
  "kernelspec": {
   "display_name": "Python 3",
   "language": "python",
   "name": "python3"
  },
  "language_info": {
   "codemirror_mode": {
    "name": "ipython",
    "version": 3
   },
   "file_extension": ".py",
   "mimetype": "text/x-python",
   "name": "python",
   "nbconvert_exporter": "python",
   "pygments_lexer": "ipython3",
   "version": "3.6.5"
  }
 },
 "nbformat": 4,
 "nbformat_minor": 2
}
