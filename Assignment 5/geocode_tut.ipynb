{
 "cells": [
  {
   "cell_type": "code",
   "execution_count": 3,
   "metadata": {},
   "outputs": [],
   "source": [
    "import arcgis\n",
    "from arcgis.gis import GIS\n",
    "# Create a GIS object, as an anonymous user for this example\n",
    "gis = GIS()"
   ]
  },
  {
   "cell_type": "code",
   "execution_count": 8,
   "metadata": {},
   "outputs": [],
   "source": [
    "from arcgis.geocoding import geocode"
   ]
  },
  {
   "cell_type": "code",
   "execution_count": 6,
   "metadata": {},
   "outputs": [],
   "source": [
    "single_line_address = \"380 New York Street, Redlands, CA 92373\""
   ]
  },
  {
   "cell_type": "code",
   "execution_count": 4,
   "metadata": {},
   "outputs": [
    {
     "data": {
      "application/vnd.jupyter.widget-view+json": {
       "model_id": "462360f5905e4da6938fed8d17e48029",
       "version_major": 2,
       "version_minor": 0
      },
      "text/plain": [
       "MapView(basemaps=['dark-gray', 'dark-gray-vector', 'gray', 'gray-vector', 'hybrid', 'national-geographic', 'oc…"
      ]
     },
     "metadata": {},
     "output_type": "display_data"
    }
   ],
   "source": [
    "map = gis.map(\"Redlands, CA\")\n",
    "map"
   ]
  },
  {
   "cell_type": "code",
   "execution_count": 9,
   "metadata": {},
   "outputs": [],
   "source": [
    "# geocode the single line address and plot the location of the first geocode result on the map\n",
    "\n",
    "esrihq = geocode(single_line_address)[0]\n",
    "popup = { \n",
    "    \"title\" : \"Esri Headquarters\", \n",
    "    \"content\" : esrihq['address']\n",
    "    }\n",
    "map.draw(esrihq['location'], popup)"
   ]
  },
  {
   "cell_type": "code",
   "execution_count": 10,
   "metadata": {},
   "outputs": [],
   "source": [
    "multi_field_address = { \n",
    "    \"Address\" : \"380 New York Street\",\n",
    "    \"City\" : \"Redlands\",\n",
    "    \"Region\" : \"CA\",\n",
    "    \"Postal\" : 92373\n",
    "    }"
   ]
  },
  {
   "cell_type": "code",
   "execution_count": 11,
   "metadata": {},
   "outputs": [
    {
     "data": {
      "application/vnd.jupyter.widget-view+json": {
       "model_id": "033e613e95f34f2eae6e646962ca7855",
       "version_major": 2,
       "version_minor": 0
      },
      "text/plain": [
       "MapView(basemaps=['dark-gray', 'dark-gray-vector', 'gray', 'gray-vector', 'hybrid', 'national-geographic', 'oc…"
      ]
     },
     "metadata": {},
     "output_type": "display_data"
    }
   ],
   "source": [
    "map = gis.map(\"Redlands, CA\")\n",
    "map"
   ]
  },
  {
   "cell_type": "code",
   "execution_count": 12,
   "metadata": {},
   "outputs": [],
   "source": [
    "#geocode the multiple field address and plot the location of the first geocode result on the map\n",
    "\n",
    "esrihq = geocode(multi_field_address)[0]\n",
    "popup = { \n",
    "    \"title\" : \"Esri Headquarters\", \n",
    "    \"content\" : esrihq['address']\n",
    "    }\n",
    "map.draw(esrihq['location'], popup)"
   ]
  },
  {
   "cell_type": "code",
   "execution_count": 13,
   "metadata": {},
   "outputs": [],
   "source": [
    "intersection = \"redlands blvd and new york st 92373\""
   ]
  },
  {
   "cell_type": "code",
   "execution_count": 14,
   "metadata": {},
   "outputs": [],
   "source": [
    "multi_field_intersection = { \n",
    "    \"Address\" : \"redlands blvd & new york st\",\n",
    "    \"City\" : \"Redlands\",\n",
    "    \"Region\" : \"CA\"\n",
    "    }"
   ]
  },
  {
   "cell_type": "code",
   "execution_count": 15,
   "metadata": {},
   "outputs": [
    {
     "data": {
      "application/vnd.jupyter.widget-view+json": {
       "model_id": "e74d0c7ce58344fd891ddaa7dadc43ae",
       "version_major": 2,
       "version_minor": 0
      },
      "text/plain": [
       "MapView(basemaps=['dark-gray', 'dark-gray-vector', 'gray', 'gray-vector', 'hybrid', 'national-geographic', 'oc…"
      ]
     },
     "metadata": {},
     "output_type": "display_data"
    }
   ],
   "source": [
    "map = gis.map(\"Esri, Redlands, CA\", 15)\n",
    "map"
   ]
  },
  {
   "cell_type": "code",
   "execution_count": 16,
   "metadata": {},
   "outputs": [],
   "source": [
    "# geocode the intersection address and plot the location of the first geocode result on the map\n",
    "# either of the two intersection address formats can be used, they give itentical results:\n",
    "\n",
    "# intersection_result = geocode(intersection)[0]\n",
    "intersection_result = geocode(multi_field_intersection)[0]\n",
    "\n",
    "popup = { \n",
    "    \"title\" : \"redlands blvd and new york st\", \n",
    "    \"content\" : intersection_result['address']\n",
    "        }\n",
    "map.draw(intersection_result['location'], popup)"
   ]
  },
  {
   "cell_type": "code",
   "execution_count": 17,
   "metadata": {},
   "outputs": [],
   "source": [
    "starbucks_sydney = \"starbucks sydney AUS\""
   ]
  },
  {
   "cell_type": "code",
   "execution_count": 18,
   "metadata": {},
   "outputs": [],
   "source": [
    "starbucks_sydney = {\n",
    "    \"Address\": \"starbucks\",\n",
    "    \"City\": \"Sydney\",\n",
    "    \"CountryCode\": \"AUS\"\n",
    "    }"
   ]
  },
  {
   "cell_type": "code",
   "execution_count": 19,
   "metadata": {},
   "outputs": [
    {
     "data": {
      "application/vnd.jupyter.widget-view+json": {
       "model_id": "9d789b73cd3d4ee28dbd9e4a483c7c9c",
       "version_major": 2,
       "version_minor": 0
      },
      "text/plain": [
       "MapView(basemaps=['dark-gray', 'dark-gray-vector', 'gray', 'gray-vector', 'hybrid', 'national-geographic', 'oc…"
      ]
     },
     "metadata": {},
     "output_type": "display_data"
    }
   ],
   "source": [
    "map = gis.map(\"Sydney, AUS\", 14)\n",
    "map"
   ]
  },
  {
   "cell_type": "code",
   "execution_count": 20,
   "metadata": {},
   "outputs": [],
   "source": [
    "address = \"hotels miami FL\""
   ]
  },
  {
   "cell_type": "code",
   "execution_count": 21,
   "metadata": {},
   "outputs": [],
   "source": [
    "address = {\n",
    "    \"Address\": \"hotels\",\n",
    "    \"City\": \"miami\",\n",
    "    \"Region\": \"FL\"\n",
    "    }"
   ]
  },
  {
   "cell_type": "code",
   "execution_count": 22,
   "metadata": {},
   "outputs": [
    {
     "data": {
      "application/vnd.jupyter.widget-view+json": {
       "model_id": "ba53516ea82044819af16c5df55725df",
       "version_major": 2,
       "version_minor": 0
      },
      "text/plain": [
       "MapView(basemaps=['dark-gray', 'dark-gray-vector', 'gray', 'gray-vector', 'hybrid', 'national-geographic', 'oc…"
      ]
     },
     "metadata": {},
     "output_type": "display_data"
    }
   ],
   "source": [
    "map = gis.map(\"Miami, Florida\", 10)\n",
    "map"
   ]
  },
  {
   "cell_type": "code",
   "execution_count": 23,
   "metadata": {},
   "outputs": [],
   "source": [
    "miamihotels = geocode(address)\n",
    "for hotel in miamihotels:\n",
    "    map.draw(hotel['location'])"
   ]
  },
  {
   "cell_type": "code",
   "execution_count": 24,
   "metadata": {},
   "outputs": [],
   "source": [
    "address = \"London\""
   ]
  },
  {
   "cell_type": "code",
   "execution_count": 25,
   "metadata": {},
   "outputs": [
    {
     "data": {
      "application/vnd.jupyter.widget-view+json": {
       "model_id": "7e631dac643546ceb9b6aec75c5c9980",
       "version_major": 2,
       "version_minor": 0
      },
      "text/plain": [
       "MapView(basemaps=['dark-gray', 'dark-gray-vector', 'gray', 'gray-vector', 'hybrid', 'national-geographic', 'oc…"
      ]
     },
     "metadata": {},
     "output_type": "display_data"
    }
   ],
   "source": [
    "map = gis.map(\"United Kingdon\", 5)\n",
    "map\n"
   ]
  },
  {
   "cell_type": "code",
   "execution_count": 26,
   "metadata": {},
   "outputs": [],
   "source": [
    "london = geocode(address)[0]"
   ]
  },
  {
   "cell_type": "code",
   "execution_count": 27,
   "metadata": {},
   "outputs": [],
   "source": [
    "\n",
    "map.draw(london['location'])"
   ]
  },
  {
   "cell_type": "code",
   "execution_count": 28,
   "metadata": {},
   "outputs": [],
   "source": [
    "address = \"Oxford AL\""
   ]
  },
  {
   "cell_type": "code",
   "execution_count": 29,
   "metadata": {},
   "outputs": [],
   "source": [
    "address = {\n",
    "    \"Address\" : \"Oxford\",\n",
    "    \"Region\" : \"AL\"\n",
    "}"
   ]
  },
  {
   "cell_type": "code",
   "execution_count": 30,
   "metadata": {},
   "outputs": [
    {
     "data": {
      "application/vnd.jupyter.widget-view+json": {
       "model_id": "f7ef87af65eb47a6ac927fae4b175ef5",
       "version_major": 2,
       "version_minor": 0
      },
      "text/plain": [
       "MapView(basemaps=['dark-gray', 'dark-gray-vector', 'gray', 'gray-vector', 'hybrid', 'national-geographic', 'oc…"
      ]
     },
     "metadata": {},
     "output_type": "display_data"
    }
   ],
   "source": [
    "map = gis.map(\"Alabama, United States\")\n",
    "map"
   ]
  },
  {
   "cell_type": "code",
   "execution_count": 31,
   "metadata": {},
   "outputs": [],
   "source": [
    "oxford = geocode(address)[0]\n",
    "map.draw(oxford['location'])"
   ]
  },
  {
   "cell_type": "code",
   "execution_count": 32,
   "metadata": {},
   "outputs": [],
   "source": [
    "address = {\n",
    "    \"Postal\" : 110001,\n",
    "    \"CountryCode\" : \"India\"\n",
    "}"
   ]
  },
  {
   "cell_type": "code",
   "execution_count": 33,
   "metadata": {},
   "outputs": [
    {
     "data": {
      "application/vnd.jupyter.widget-view+json": {
       "model_id": "5f165f64ac6c40e9a30510d505b6e095",
       "version_major": 2,
       "version_minor": 0
      },
      "text/plain": [
       "MapView(basemaps=['dark-gray', 'dark-gray-vector', 'gray', 'gray-vector', 'hybrid', 'national-geographic', 'oc…"
      ]
     },
     "metadata": {},
     "output_type": "display_data"
    }
   ],
   "source": [
    "map = gis.map(\"New Delhi, India\")\n",
    "map"
   ]
  },
  {
   "cell_type": "code",
   "execution_count": 34,
   "metadata": {},
   "outputs": [],
   "source": [
    "pincode = geocode(address)[0]\n",
    "map.draw(pincode['location'])"
   ]
  },
  {
   "cell_type": "code",
   "execution_count": 35,
   "metadata": {},
   "outputs": [
    {
     "data": {
      "text/plain": [
       "{'Loc_name': 'World',\n",
       " 'Status': 'M',\n",
       " 'Score': 100,\n",
       " 'Match_addr': '110001',\n",
       " 'LongLabel': '110001, Delhi, IND',\n",
       " 'ShortLabel': '110001',\n",
       " 'Addr_type': 'Postal',\n",
       " 'Type': '',\n",
       " 'PlaceName': '110001',\n",
       " 'Place_addr': 'New Delhi, Delhi, 110001',\n",
       " 'Phone': '',\n",
       " 'URL': '',\n",
       " 'Rank': 5,\n",
       " 'AddBldg': '',\n",
       " 'AddNum': '',\n",
       " 'AddNumFrom': '',\n",
       " 'AddNumTo': '',\n",
       " 'AddRange': '',\n",
       " 'Side': '',\n",
       " 'StPreDir': '',\n",
       " 'StPreType': '',\n",
       " 'StName': '',\n",
       " 'StType': '',\n",
       " 'StDir': '',\n",
       " 'BldgType': '',\n",
       " 'BldgName': '',\n",
       " 'LevelType': '',\n",
       " 'LevelName': '',\n",
       " 'UnitType': '',\n",
       " 'UnitName': '',\n",
       " 'SubAddr': '',\n",
       " 'StAddr': '',\n",
       " 'Block': '',\n",
       " 'Sector': '',\n",
       " 'Nbrhd': '',\n",
       " 'District': '',\n",
       " 'City': 'New Delhi',\n",
       " 'MetroArea': '',\n",
       " 'Subregion': 'New Delhi',\n",
       " 'Region': 'Delhi',\n",
       " 'RegionAbbr': '',\n",
       " 'Territory': '',\n",
       " 'Zone': '',\n",
       " 'Postal': '110001',\n",
       " 'PostalExt': '',\n",
       " 'Country': 'IND',\n",
       " 'LangCode': 'ENG',\n",
       " 'Distance': 0,\n",
       " 'X': 77.22280275000008,\n",
       " 'Y': 28.623202500000048,\n",
       " 'DisplayX': 77.22280275000008,\n",
       " 'DisplayY': 28.623202500000048,\n",
       " 'Xmin': 77.19580275000008,\n",
       " 'Xmax': 77.24980275000009,\n",
       " 'Ymin': 28.596202500000047,\n",
       " 'Ymax': 28.65020250000005,\n",
       " 'ExInfo': ''}"
      ]
     },
     "execution_count": 35,
     "metadata": {},
     "output_type": "execute_result"
    }
   ],
   "source": [
    "\n",
    "pincode['attributes']"
   ]
  },
  {
   "cell_type": "code",
   "execution_count": 36,
   "metadata": {},
   "outputs": [],
   "source": [
    "matches = geocode(\"coffee shops austin\", out_fields=\"PlaceName,Type,City,Country\")"
   ]
  },
  {
   "cell_type": "code",
   "execution_count": 37,
   "metadata": {},
   "outputs": [
    {
     "data": {
      "text/plain": [
       "{'Type': 'Coffee Shop',\n",
       " 'PlaceName': 'Cuppa Austin',\n",
       " 'City': 'Austin',\n",
       " 'Country': 'USA'}"
      ]
     },
     "execution_count": 37,
     "metadata": {},
     "output_type": "execute_result"
    }
   ],
   "source": [
    "matches[0]['attributes']"
   ]
  },
  {
   "cell_type": "code",
   "execution_count": null,
   "metadata": {},
   "outputs": [],
   "source": []
  }
 ],
 "metadata": {
  "kernelspec": {
   "display_name": "Python 3",
   "language": "python",
   "name": "python3"
  },
  "language_info": {
   "codemirror_mode": {
    "name": "ipython",
    "version": 3
   },
   "file_extension": ".py",
   "mimetype": "text/x-python",
   "name": "python",
   "nbconvert_exporter": "python",
   "pygments_lexer": "ipython3",
   "version": "3.6.5"
  }
 },
 "nbformat": 4,
 "nbformat_minor": 2
}
