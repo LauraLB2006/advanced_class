{
 "cells": [
  {
   "cell_type": "code",
   "execution_count": 17,
   "metadata": {},
   "outputs": [],
   "source": [
    "from IPython.display import display\n",
    "from arcgis.gis import *\n"
   ]
  },
  {
   "cell_type": "code",
   "execution_count": 18,
   "metadata": {},
   "outputs": [
    {
     "name": "stdout",
     "output_type": "stream",
     "text": [
      "Enter password: ········\n"
     ]
    }
   ],
   "source": [
    "gis = GIS(\"http://slustl.maps.arcgis.com/home\", \"lbernett_SLUSTL\")"
   ]
  },
  {
   "cell_type": "code",
   "execution_count": 38,
   "metadata": {},
   "outputs": [],
   "source": [
    "webmaps= gis.groups.create(title=\"Laura_Webmaps\", access='org', \n",
    "                  tags='Web Maps, Demos', \n",
    "                  description=\"Laura's Webmap Group\")#,thumbnail=\"map.gif\")"
   ]
  },
  {
   "cell_type": "code",
   "execution_count": 39,
   "metadata": {},
   "outputs": [],
   "source": [
    "feature = gis.groups.create(title=\"Laura_Feature_Services\", access='org', \n",
    "                  tags='Feature Layers, Demos', \n",
    "                  description=\"Laura's Feature Group\")#,thumbnail=\"map.gif\")"
   ]
  },
  {
   "cell_type": "code",
   "execution_count": 24,
   "metadata": {},
   "outputs": [
    {
     "data": {
      "text/plain": [
       "[<Group title:\"HOMEWORK_Prob2\" owner:lbernett_SLUSTL>,\n",
       " <Group title:\"HW_Prob2\" owner:lbernett_SLUSTL>,\n",
       " <Group title:\"Laura_Feature_Services\" owner:lbernett_SLUSTL>,\n",
       " <Group title:\"Laura_Webmaps\" owner:lbernett_SLUSTL>]"
      ]
     },
     "execution_count": 24,
     "metadata": {},
     "output_type": "execute_result"
    }
   ],
   "source": [
    "laura_groups = gis.groups.search('LAURA', max_groups=15)\n",
    "laura_groups"
   ]
  },
  {
   "cell_type": "code",
   "execution_count": 40,
   "metadata": {},
   "outputs": [],
   "source": [
    "content= gis.groups.create(title=\"Laura_All_Content\", access='org', \n",
    "                  tags='Feature Layers, Content, Demos', \n",
    "                  description=\"Laura's Content Group\")#,thumbnail=\"map.gif\")"
   ]
  },
  {
   "cell_type": "code",
   "execution_count": 26,
   "metadata": {},
   "outputs": [
    {
     "data": {
      "text/plain": [
       "[<Item title:\"Practice Map\" type:Web Map owner:lbernett_SLUSTL>,\n",
       " <Item title:\"SLU_Crime\" type:Web Map owner:lbernett_SLUSTL>,\n",
       " <Item title:\"storymap_csv\" type:CSV owner:lbernett_SLUSTL>,\n",
       " <Item title:\"storymap_csv\" type:Feature Layer Collection owner:lbernett_SLUSTL>,\n",
       " <Item title:\"SLU_Campus\" type:Web Map owner:lbernett_SLUSTL>,\n",
       " <Item title:\"Practice Map2\" type:Web Map owner:lbernett_SLUSTL>,\n",
       " <Item title:\"Larceny and Theft Jan-Mar 2017\" type:Web Map owner:lbernett_SLUSTL>,\n",
       " <Item title:\"Larceny and Theft Jan-Mar 2017\" type:Web Mapping Application owner:lbernett_SLUSTL>,\n",
       " <Item title:\"African_Fatalities\" type:Service Definition owner:lbernett_SLUSTL>,\n",
       " <Item title:\"African_Fatalities\" type:Feature Layer Collection owner:lbernett_SLUSTL>,\n",
       " <Item title:\"Africa_Fatalities\" type:Web Map owner:lbernett_SLUSTL>,\n",
       " <Item title:\"African_Fatalities_pred_surface_LLB\" type:Feature Layer Collection owner:lbernett_SLUSTL>,\n",
       " <Item title:\"African_Fatalities_demo\" type:Web Map owner:lbernett_SLUSTL>,\n",
       " <Item title:\"Glacier National Park\" type:Web Map owner:lbernett_SLUSTL>,\n",
       " <Item title:\"Glacier National Park\" type:Web Mapping Application owner:lbernett_SLUSTL>,\n",
       " <Item title:\"Glacier National Park\" type:Code Attachment owner:lbernett_SLUSTL>,\n",
       " <Item title:\"US_Congress map_practice\" type:Web Map owner:lbernett_SLUSTL>,\n",
       " <Item title:\"Colleges and Universities in Greater St. Louis\" type:Web Map owner:lbernett_SLUSTL>,\n",
       " <Item title:\"St. Louis Neighborhoods\" type:Web Map owner:lbernett_SLUSTL>,\n",
       " <Item title:\"GBs ACLED Heatmap\" type:Web Map owner:lbernett_SLUSTL>,\n",
       " <Item title:\"chennai-rainfall\" type:CSV owner:lbernett_SLUSTL>,\n",
       " <Item title:\"Thunder_Acquisitions_LLB\" type:CSV owner:lbernett_SLUSTL>,\n",
       " <Item title:\"Thunder_Acquisitions_LLB\" type:Feature Layer Collection owner:lbernett_SLUSTL>]"
      ]
     },
     "execution_count": 26,
     "metadata": {},
     "output_type": "execute_result"
    }
   ],
   "source": [
    "laura_list = gis.users.me.items()\n",
    "laura_list"
   ]
  },
  {
   "cell_type": "code",
   "execution_count": 31,
   "metadata": {},
   "outputs": [
    {
     "data": {
      "text/plain": [
       "'private'"
      ]
     },
     "execution_count": 31,
     "metadata": {},
     "output_type": "execute_result"
    }
   ],
   "source": [
    "Africa_Fatalities = gis.content.get('f0d367cdd9f74306b037e267c58654be')\n",
    "Africa_Fatalities.access"
   ]
  },
  {
   "cell_type": "code",
   "execution_count": 44,
   "metadata": {},
   "outputs": [
    {
     "data": {
      "text/plain": [
       "{'notSharedWith': [], 'itemId': 'f0d367cdd9f74306b037e267c58654be'}"
      ]
     },
     "execution_count": 44,
     "metadata": {},
     "output_type": "execute_result"
    }
   ],
   "source": [
    "Africa_Fatalities.share(groups=webmaps.id)"
   ]
  },
  {
   "cell_type": "code",
   "execution_count": 45,
   "metadata": {},
   "outputs": [
    {
     "data": {
      "text/plain": [
       "'private'"
      ]
     },
     "execution_count": 45,
     "metadata": {},
     "output_type": "execute_result"
    }
   ],
   "source": [
    "Colleges_STL = gis.content.get ('dff92d3aee574e76b64a2cb0d9e63258')\n",
    "Colleges_STL.access"
   ]
  },
  {
   "cell_type": "code",
   "execution_count": 46,
   "metadata": {},
   "outputs": [
    {
     "data": {
      "text/plain": [
       "{'notSharedWith': [], 'itemId': 'dff92d3aee574e76b64a2cb0d9e63258'}"
      ]
     },
     "execution_count": 46,
     "metadata": {},
     "output_type": "execute_result"
    }
   ],
   "source": [
    "Colleges_STL.share (groups=webmaps.id)"
   ]
  },
  {
   "cell_type": "code",
   "execution_count": 47,
   "metadata": {},
   "outputs": [
    {
     "data": {
      "text/plain": [
       "'private'"
      ]
     },
     "execution_count": 47,
     "metadata": {},
     "output_type": "execute_result"
    }
   ],
   "source": [
    "STL_neighborhoods = gis.content.get ('2f52cbb6106d4e32971f17008d4a921e')\n",
    "STL_neighborhoods.access"
   ]
  },
  {
   "cell_type": "code",
   "execution_count": 48,
   "metadata": {},
   "outputs": [
    {
     "data": {
      "text/plain": [
       "{'notSharedWith': [], 'itemId': '2f52cbb6106d4e32971f17008d4a921e'}"
      ]
     },
     "execution_count": 48,
     "metadata": {},
     "output_type": "execute_result"
    }
   ],
   "source": [
    "STL_neighborhoods.share (groups=webmaps.id)"
   ]
  },
  {
   "cell_type": "code",
   "execution_count": 49,
   "metadata": {},
   "outputs": [
    {
     "data": {
      "text/plain": [
       "'private'"
      ]
     },
     "execution_count": 49,
     "metadata": {},
     "output_type": "execute_result"
    }
   ],
   "source": [
    "African_Fatalities_pred_surface_LLB= gis.content.get ('1b937bfe613649f99d60e6a4a6e018c5')\n",
    "African_Fatalities_pred_surface_LLB.access"
   ]
  },
  {
   "cell_type": "code",
   "execution_count": 52,
   "metadata": {},
   "outputs": [
    {
     "data": {
      "text/plain": [
       "{'notSharedWith': [], 'itemId': '1b937bfe613649f99d60e6a4a6e018c5'}"
      ]
     },
     "execution_count": 52,
     "metadata": {},
     "output_type": "execute_result"
    }
   ],
   "source": [
    "African_Fatalities_pred_surface_LLB.share (groups= feature.id)"
   ]
  },
  {
   "cell_type": "code",
   "execution_count": 53,
   "metadata": {},
   "outputs": [
    {
     "data": {
      "text/plain": [
       "'org'"
      ]
     },
     "execution_count": 53,
     "metadata": {},
     "output_type": "execute_result"
    }
   ],
   "source": [
    "African_Fatalities_FL = gis.content.get ('d20e73853fda4db59519e19573105e34')\n",
    "African_Fatalities_FL.access"
   ]
  },
  {
   "cell_type": "code",
   "execution_count": 54,
   "metadata": {},
   "outputs": [
    {
     "data": {
      "text/plain": [
       "{'notSharedWith': [], 'itemId': 'd20e73853fda4db59519e19573105e34'}"
      ]
     },
     "execution_count": 54,
     "metadata": {},
     "output_type": "execute_result"
    }
   ],
   "source": [
    "African_Fatalities_FL.share (groups= feature.id)"
   ]
  },
  {
   "cell_type": "code",
   "execution_count": 55,
   "metadata": {},
   "outputs": [
    {
     "data": {
      "text/plain": [
       "'private'"
      ]
     },
     "execution_count": 55,
     "metadata": {},
     "output_type": "execute_result"
    }
   ],
   "source": [
    "Conflict_Fatalities_Africa= gis.content.get ('99b9292f291f40b2bd671a216e2283d5')\n",
    "Conflict_Fatalities_Africa.access"
   ]
  },
  {
   "cell_type": "code",
   "execution_count": 56,
   "metadata": {},
   "outputs": [
    {
     "data": {
      "text/plain": [
       "{'notSharedWith': [], 'itemId': '99b9292f291f40b2bd671a216e2283d5'}"
      ]
     },
     "execution_count": 56,
     "metadata": {},
     "output_type": "execute_result"
    }
   ],
   "source": [
    "Conflict_Fatalities_Africa.share (groups= feature.id)"
   ]
  },
  {
   "cell_type": "code",
   "execution_count": 57,
   "metadata": {},
   "outputs": [
    {
     "data": {
      "text/plain": [
       "'private'"
      ]
     },
     "execution_count": 57,
     "metadata": {},
     "output_type": "execute_result"
    }
   ],
   "source": [
    "chennai_rainfall_LLB= gis.content.get ('2c4bcba9fa604bd1b8a438469ae3d921')\n",
    "chennai_rainfall_LLB.access"
   ]
  },
  {
   "cell_type": "code",
   "execution_count": 58,
   "metadata": {},
   "outputs": [
    {
     "data": {
      "text/plain": [
       "{'notSharedWith': [], 'itemId': '2c4bcba9fa604bd1b8a438469ae3d921'}"
      ]
     },
     "execution_count": 58,
     "metadata": {},
     "output_type": "execute_result"
    }
   ],
   "source": [
    "chennai_rainfall_LLB.share (groups = content.id)"
   ]
  },
  {
   "cell_type": "code",
   "execution_count": 59,
   "metadata": {},
   "outputs": [
    {
     "data": {
      "text/plain": [
       "'private'"
      ]
     },
     "execution_count": 59,
     "metadata": {},
     "output_type": "execute_result"
    }
   ],
   "source": [
    "Thunder_Acquisitions_LLB= gis.content.get ('13672818856d451bbe9411ea57b66bb0')\n",
    "Thunder_Acquisitions_LLB.access"
   ]
  },
  {
   "cell_type": "code",
   "execution_count": 60,
   "metadata": {},
   "outputs": [
    {
     "data": {
      "text/plain": [
       "{'notSharedWith': [], 'itemId': '13672818856d451bbe9411ea57b66bb0'}"
      ]
     },
     "execution_count": 60,
     "metadata": {},
     "output_type": "execute_result"
    }
   ],
   "source": [
    "Thunder_Acquisitions_LLB.share (groups = content.id)"
   ]
  },
  {
   "cell_type": "code",
   "execution_count": 61,
   "metadata": {},
   "outputs": [
    {
     "data": {
      "text/plain": [
       "'private'"
      ]
     },
     "execution_count": 61,
     "metadata": {},
     "output_type": "execute_result"
    }
   ],
   "source": [
    "storymap_csv = gis.content.get ('c2758209fada426fad9d8b75e1122325')\n",
    "storymap_csv.access"
   ]
  },
  {
   "cell_type": "code",
   "execution_count": 62,
   "metadata": {},
   "outputs": [
    {
     "data": {
      "text/plain": [
       "{'notSharedWith': [], 'itemId': 'c2758209fada426fad9d8b75e1122325'}"
      ]
     },
     "execution_count": 62,
     "metadata": {},
     "output_type": "execute_result"
    }
   ],
   "source": [
    "storymap_csv.share (groups = content.id)"
   ]
  },
  {
   "cell_type": "code",
   "execution_count": null,
   "metadata": {},
   "outputs": [],
   "source": []
  }
 ],
 "metadata": {
  "kernelspec": {
   "display_name": "Python 3",
   "language": "python",
   "name": "python3"
  },
  "language_info": {
   "codemirror_mode": {
    "name": "ipython",
    "version": 3
   },
   "file_extension": ".py",
   "mimetype": "text/x-python",
   "name": "python",
   "nbconvert_exporter": "python",
   "pygments_lexer": "ipython3",
   "version": "3.6.5"
  }
 },
 "nbformat": 4,
 "nbformat_minor": 2
}
