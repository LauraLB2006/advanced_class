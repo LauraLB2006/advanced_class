{
 "cells": [
  {
   "cell_type": "code",
   "execution_count": 11,
   "metadata": {},
   "outputs": [
    {
     "name": "stdout",
     "output_type": "stream",
     "text": [
      "['{\"code\": \"InvalidContent\", \"message\": \"\"}']\n"
     ]
    }
   ],
   "source": [
    "import pandas as pd\n",
    "import requests\n",
    "import json"
   ]
  },
  {
   "cell_type": "code",
   "execution_count": 4,
   "metadata": {},
   "outputs": [],
   "source": [
    "import arcgis\n",
    "from arcgis.gis import GIS\n",
    "from IPython.display import display"
   ]
  },
  {
   "cell_type": "code",
   "execution_count": 5,
   "metadata": {},
   "outputs": [
    {
     "name": "stdout",
     "output_type": "stream",
     "text": [
      "Enter password: ········\n"
     ]
    }
   ],
   "source": [
    "gis = GIS(\"http://slustl.maps.arcgis.com/home\", \"lbernett_SLUSTL\")"
   ]
  },
  {
   "cell_type": "code",
   "execution_count": 31,
   "metadata": {},
   "outputs": [],
   "source": [
    "month_dict = {'01': 'January',\n",
    "              '02': 'February',\n",
    "              '03': 'March',\n",
    "              '04': 'April',\n",
    "              '05': 'May',\n",
    "              '06': 'June',\n",
    "              '07': 'July',\n",
    "              '08': 'August',\n",
    "              '09': 'September',\n",
    "              '10': 'October',\n",
    "              '11': 'November',\n",
    "              '12': 'December'}\n",
    "\n",
    "for m in month_dict.keys ():\n",
    "                 \n",
    "    \n",
    "    df = pd.read_json ('http://popdata.unhcr.org/api/stats/asylum_seekers_monthly.json?year=2017&coa=DEU&month=' +m)\n",
    "    \n",
    "    resettlement_stats = gis.content.import_data(df, {\"Address\" : \"country_of_origin_en\"})\n",
    "    \n",
    "    item_properties = {\"title\": \"UNCR Asylum in Germany in \" + month_dict[m] + \" 2017\",\n",
    "    \"tags\" : \"refugees,resettlement\",\n",
    "    \"snippet\": \"UNCR Resettlement Stats\",\n",
    "    \"description\": \"test description\",\n",
    "    \"text\": json.dumps({\"featureCollection\": {\"layers\": [dict(resettlement_stats.layer)]}}),\n",
    "    \"type\": \"Feature Collection\",\n",
    "    \"typeKeywords\": \"Data, Feature Collection, Singlelayer\",\n",
    "    \"extent\" : \"-102.5272,-41.7886,172.5967,64.984\"\n",
    "              }\n",
    "    item = gis.content.add(item_properties)  \n",
    "\n",
    "    df"
   ]
  },
  {
   "cell_type": "code",
   "execution_count": null,
   "metadata": {},
   "outputs": [],
   "source": []
  },
  {
   "cell_type": "code",
   "execution_count": null,
   "metadata": {},
   "outputs": [],
   "source": [
    "   "
   ]
  }
 ],
 "metadata": {
  "kernelspec": {
   "display_name": "Python 3",
   "language": "python",
   "name": "python3"
  },
  "language_info": {
   "codemirror_mode": {
    "name": "ipython",
    "version": 3
   },
   "file_extension": ".py",
   "mimetype": "text/x-python",
   "name": "python",
   "nbconvert_exporter": "python",
   "pygments_lexer": "ipython3",
   "version": "3.6.5"
  }
 },
 "nbformat": 4,
 "nbformat_minor": 2
}
