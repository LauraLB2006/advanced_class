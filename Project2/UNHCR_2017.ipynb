{
 "cells": [
  {
   "cell_type": "code",
   "execution_count": 2,
   "metadata": {},
   "outputs": [],
   "source": [
    "import pandas as pd\n",
    "import requests\n",
    "import json"
   ]
  },
  {
   "cell_type": "code",
   "execution_count": 3,
   "metadata": {},
   "outputs": [],
   "source": [
    "import arcgis\n",
    "from arcgis.gis import GIS\n",
    "from IPython.display import display"
   ]
  },
  {
   "cell_type": "code",
   "execution_count": null,
   "metadata": {},
   "outputs": [],
   "source": [
    "gis = GIS(\"http://slustl.maps.arcgis.com/home\", \"lbernett_SLUSTL\")"
   ]
  },
  {
   "cell_type": "code",
   "execution_count": 13,
   "metadata": {},
   "outputs": [],
   "source": [
    "country_list = ['ALB', 'AUS', 'AUT', 'BEL', 'BIH', 'BGR', 'CAN', 'HRV', 'CYP', 'CZE', 'DNK', 'EST', 'FIN', 'FRA', 'DEU', 'GRC', 'HUN', 'ISL', 'IRL', 'ITA', 'JPN', 'LVA', 'LIE', 'LTU', 'LUX', 'MLT', 'MNE', 'NLD', 'NZL', 'NOR', 'POL', 'PRT', 'KOR', 'ROU', 'SRB', 'SVK', 'SVN', 'ESP', 'SWE', 'CHE', 'MKD', 'TUR', 'USA_EOIR', 'USA_INSDHS', 'GBR', 'USA' ]\n"
   ]
  },
  {
   "cell_type": "code",
   "execution_count": 11,
   "metadata": {},
   "outputs": [
    {
     "name": "stdout",
     "output_type": "stream",
     "text": [
      "    country_of_asylum                       country_of_asylum_en\n",
      "0                 AFG                                Afghanistan\n",
      "1                 ALB                                    Albania\n",
      "2                 DZA                                    Algeria\n",
      "3                 AGO                                     Angola\n",
      "4                 AIA                                   Anguilla\n",
      "5                 ATG                        Antigua and Barbuda\n",
      "6                 ARG                                  Argentina\n",
      "7                 ARM                                    Armenia\n",
      "8                 ABW                                      Aruba\n",
      "9                 AUS                                  Australia\n",
      "10                AUT                                    Austria\n",
      "11                AZE                                 Azerbaijan\n",
      "12                BHS                                    Bahamas\n",
      "13                BHR                                    Bahrain\n",
      "14                BGD                                 Bangladesh\n",
      "15                BRB                                   Barbados\n",
      "16                BLR                                    Belarus\n",
      "17                BEL                                    Belgium\n",
      "18                BLZ                                     Belize\n",
      "19                BEN                                      Benin\n",
      "20                BOL           Bolivia (Plurinational State of)\n",
      "21                BES                                    Bonaire\n",
      "22                BIH                     Bosnia and Herzegovina\n",
      "23                BWA                                   Botswana\n",
      "24                BRA                                     Brazil\n",
      "25                VGB                     British Virgin Islands\n",
      "26                BGR                                   Bulgaria\n",
      "27                BFA                               Burkina Faso\n",
      "28                BDI                                    Burundi\n",
      "29                KHM                                   Cambodia\n",
      "..                ...                                        ...\n",
      "160               SDN                                      Sudan\n",
      "161               SUR                                   Suriname\n",
      "162               SWZ                                  Swaziland\n",
      "163               SWE                                     Sweden\n",
      "164               CHE                                Switzerland\n",
      "165               SYR                           Syrian Arab Rep.\n",
      "166               TJK                                 Tajikistan\n",
      "167               THA                                   Thailand\n",
      "168               MKD  The former Yugoslav Republic of Macedonia\n",
      "169               TLS                                Timor-Leste\n",
      "170               TGO                                       Togo\n",
      "171               TON                                      Tonga\n",
      "172               TTO                        Trinidad and Tobago\n",
      "173               TUN                                    Tunisia\n",
      "174               TUR                                     Turkey\n",
      "175               TKM                               Turkmenistan\n",
      "176               TCA                   Turks and Caicos Islands\n",
      "177               UGA                                     Uganda\n",
      "178               UKR                                    Ukraine\n",
      "179               ARE                       United Arab Emirates\n",
      "180               GBR                             United Kingdom\n",
      "181               TZA                    United Rep. of Tanzania\n",
      "182               USA                   United States of America\n",
      "183               URY                                    Uruguay\n",
      "184               UZB                                 Uzbekistan\n",
      "185               VUT                                    Vanuatu\n",
      "186               VEN         Venezuela (Bolivarian Republic of)\n",
      "187               YEM                                      Yemen\n",
      "188               ZMB                                     Zambia\n",
      "189               ZWE                                   Zimbabwe\n",
      "\n",
      "[190 rows x 2 columns]\n"
     ]
    }
   ],
   "source": [
    "print (country_list)"
   ]
  },
  {
   "cell_type": "code",
   "execution_count": 1,
   "metadata": {},
   "outputs": [
    {
     "ename": "NameError",
     "evalue": "name 'country_list' is not defined",
     "output_type": "error",
     "traceback": [
      "\u001b[1;31m---------------------------------------------------------------------------\u001b[0m",
      "\u001b[1;31mNameError\u001b[0m                                 Traceback (most recent call last)",
      "\u001b[1;32m<ipython-input-1-97dddbd1849a>\u001b[0m in \u001b[0;36m<module>\u001b[1;34m()\u001b[0m\n\u001b[1;32m----> 1\u001b[1;33m \u001b[1;32mfor\u001b[0m \u001b[0mc\u001b[0m \u001b[1;32min\u001b[0m \u001b[0mcountry_list\u001b[0m\u001b[1;33m:\u001b[0m\u001b[1;33m\u001b[0m\u001b[0m\n\u001b[0m\u001b[0;32m      2\u001b[0m     \u001b[1;31m#print('looking at ' + c)\u001b[0m\u001b[1;33m\u001b[0m\u001b[1;33m\u001b[0m\u001b[0m\n\u001b[0;32m      3\u001b[0m     \u001b[0mdf\u001b[0m \u001b[1;33m=\u001b[0m \u001b[0mpd\u001b[0m\u001b[1;33m.\u001b[0m\u001b[0mread_json\u001b[0m \u001b[1;33m(\u001b[0m\u001b[1;34m'http://popdata.unhcr.org/api/stats/resettlement.json?year=2017&month=01,02,03,04,05,06,07,08,09,10,11,12&country_of_asylum='\u001b[0m \u001b[1;33m+\u001b[0m\u001b[0mc\u001b[0m\u001b[1;33m)\u001b[0m\u001b[1;33m\u001b[0m\u001b[0m\n\u001b[0;32m      4\u001b[0m     \u001b[0mresettlment_stats\u001b[0m \u001b[1;33m=\u001b[0m \u001b[0mgis\u001b[0m\u001b[1;33m.\u001b[0m\u001b[0mcontent\u001b[0m\u001b[1;33m.\u001b[0m\u001b[0mimport_data\u001b[0m\u001b[1;33m(\u001b[0m\u001b[0mdf\u001b[0m\u001b[1;33m,\u001b[0m \u001b[1;33m{\u001b[0m\u001b[1;34m\"Address\"\u001b[0m \u001b[1;33m:\u001b[0m \u001b[1;34m\"country_of_origin_en\"\u001b[0m\u001b[1;33m}\u001b[0m\u001b[1;33m)\u001b[0m\u001b[1;33m\u001b[0m\u001b[0m\n\u001b[0;32m      5\u001b[0m \u001b[1;33m\u001b[0m\u001b[0m\n",
      "\u001b[1;31mNameError\u001b[0m: name 'country_list' is not defined"
     ]
    }
   ],
   "source": [
    "for c in country_list:\n",
    "    #print('looking at ' + c)\n",
    "    df = pd.read_json ('http://popdata.unhcr.org/api/stats/resettlement.json?year=2017&month=01,02,03,04,05,06,07,08,09,10,11,12&country_of_asylum=' +c)\n",
    "    resettlment_stats = gis.content.import_data(df, {\"Address\" : \"country_of_origin_en\"})\n",
    "\n",
    "    item_properties = {\"title\": \"UNCR Countries of Asylum\",\n",
    "    \"tags\" : \"refugees,resettlement\",\n",
    "    \"snippet\": \" UNCR Resettlement Stats\",\n",
    "    \"description\": \"test description\",\n",
    "    \"text\": json.dumps({\"featureCollection\": {\"layers\": [dict(resettlment_stats.layer)]}}),\n",
    "    \"type\": \"Feature Collection\",\n",
    "    \"typeKeywords\": \"Data, Feature Collection, Singlelayer\",\n",
    "    \"extent\" : \"-102.5272,-41.7886,172.5967,64.984\"\n",
    "                  }\n",
    "    item = gis.content.add(item_properties)  \n",
    "    df\n"
   ]
  },
  {
   "cell_type": "code",
   "execution_count": null,
   "metadata": {},
   "outputs": [],
   "source": []
  },
  {
   "cell_type": "code",
   "execution_count": null,
   "metadata": {},
   "outputs": [],
   "source": [
    "   "
   ]
  }
 ],
 "metadata": {
  "kernelspec": {
   "display_name": "Python 3",
   "language": "python",
   "name": "python3"
  },
  "language_info": {
   "codemirror_mode": {
    "name": "ipython",
    "version": 3
   },
   "file_extension": ".py",
   "mimetype": "text/x-python",
   "name": "python",
   "nbconvert_exporter": "python",
   "pygments_lexer": "ipython3",
   "version": "3.6.5"
  }
 },
 "nbformat": 4,
 "nbformat_minor": 2
}
