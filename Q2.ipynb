{
 "cells": [
  {
   "cell_type": "code",
   "execution_count": 2,
   "metadata": {},
   "outputs": [],
   "source": [
    "import arcpy\n",
    "import os\n",
    "import numpy as np"
   ]
  },
  {
   "cell_type": "code",
   "execution_count": 3,
   "metadata": {},
   "outputs": [],
   "source": [
    "import matplotlib.pyplot as plt"
   ]
  },
  {
   "cell_type": "markdown",
   "metadata": {},
   "source": [
    "I've tried every folder and every file within every folder but there is no .tif which I think I need"
   ]
  },
  {
   "cell_type": "code",
   "execution_count": 8,
   "metadata": {},
   "outputs": [],
   "source": [
    "data =  os.path.join (r\"C:\\Users\\HP\\Desktop\\GIS_5091\\advanced_class\\Week10\\Assignment10\\Data\\USGS_NED_13_n48w122_ArcGrid.zip\\C:\\Users\\HP\\Desktop\\GIS_5091\\advanced_class\\Week10\\Assignment10\\Data\\grdn48w122_13\")"
   ]
  },
  {
   "cell_type": "code",
   "execution_count": 9,
   "metadata": {},
   "outputs": [
    {
     "ename": "RuntimeError",
     "evalue": "ERROR 000732: Input Raster: Dataset C:\\Users\\HP\\Desktop\\GIS_5091\\advanced_class\\Week10\\Assignment10\\Data\\USGS_NED_13_n48w122_ArcGrid.zip\\C:\\Users\\HP\\Desktop\\GIS_5091\\advanced_class\\Week10\\Assignment10\\Data\\grdn48w122_13 does not exist or is not supported",
     "output_type": "error",
     "traceback": [
      "\u001b[1;31m---------------------------------------------------------------------------\u001b[0m",
      "\u001b[1;31mRuntimeError\u001b[0m                              Traceback (most recent call last)",
      "\u001b[1;32m<ipython-input-9-eef63bcafff6>\u001b[0m in \u001b[0;36m<module>\u001b[1;34m()\u001b[0m\n\u001b[1;32m----> 1\u001b[1;33m \u001b[0mdem\u001b[0m\u001b[1;33m=\u001b[0m \u001b[0marcpy\u001b[0m\u001b[1;33m.\u001b[0m\u001b[0mRasterToNumPyArray\u001b[0m\u001b[1;33m(\u001b[0m\u001b[0mdata\u001b[0m\u001b[1;33m)\u001b[0m\u001b[1;33m\u001b[0m\u001b[0m\n\u001b[0m",
      "\u001b[1;32mC:\\Program Files\\ArcGIS\\Pro\\Resources\\ArcPy\\arcpy\\__init__.py\u001b[0m in \u001b[0;36mRasterToNumPyArray\u001b[1;34m(*args, **kwargs)\u001b[0m\n\u001b[0;32m   2286\u001b[0m \u001b[1;33m\u001b[0m\u001b[0m\n\u001b[0;32m   2287\u001b[0m        If no value is specified, the NoData value of in_raster will be used.\"\"\"\n\u001b[1;32m-> 2288\u001b[1;33m     \u001b[1;32mreturn\u001b[0m \u001b[0m_RasterToNumPyArray\u001b[0m\u001b[1;33m(\u001b[0m\u001b[1;33m*\u001b[0m\u001b[0margs\u001b[0m\u001b[1;33m,\u001b[0m \u001b[1;33m**\u001b[0m\u001b[0mkwargs\u001b[0m\u001b[1;33m)\u001b[0m\u001b[1;33m\u001b[0m\u001b[0m\n\u001b[0m\u001b[0;32m   2289\u001b[0m \u001b[1;33m\u001b[0m\u001b[0m\n\u001b[0;32m   2290\u001b[0m \u001b[1;32mdef\u001b[0m \u001b[0mNumPyArrayToRaster\u001b[0m\u001b[1;33m(\u001b[0m\u001b[1;33m*\u001b[0m\u001b[0margs\u001b[0m\u001b[1;33m,\u001b[0m \u001b[1;33m**\u001b[0m\u001b[0mkwargs\u001b[0m\u001b[1;33m)\u001b[0m\u001b[1;33m:\u001b[0m\u001b[1;33m\u001b[0m\u001b[0m\n",
      "\u001b[1;31mRuntimeError\u001b[0m: ERROR 000732: Input Raster: Dataset C:\\Users\\HP\\Desktop\\GIS_5091\\advanced_class\\Week10\\Assignment10\\Data\\USGS_NED_13_n48w122_ArcGrid.zip\\C:\\Users\\HP\\Desktop\\GIS_5091\\advanced_class\\Week10\\Assignment10\\Data\\grdn48w122_13 does not exist or is not supported"
     ]
    }
   ],
   "source": [
    "dem= arcpy.RasterToNumPyArray(data)"
   ]
  },
  {
   "cell_type": "code",
   "execution_count": null,
   "metadata": {},
   "outputs": [],
   "source": []
  }
 ],
 "metadata": {
  "kernelspec": {
   "display_name": "Python 3",
   "language": "python",
   "name": "python3"
  },
  "language_info": {
   "codemirror_mode": {
    "name": "ipython",
    "version": 3
   },
   "file_extension": ".py",
   "mimetype": "text/x-python",
   "name": "python",
   "nbconvert_exporter": "python",
   "pygments_lexer": "ipython3",
   "version": "3.6.5"
  }
 },
 "nbformat": 4,
 "nbformat_minor": 2
}
